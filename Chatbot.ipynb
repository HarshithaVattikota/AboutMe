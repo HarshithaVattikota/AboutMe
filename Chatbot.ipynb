{
  "cells": [
    {
      "cell_type": "markdown",
      "metadata": {
        "id": "view-in-github",
        "colab_type": "text"
      },
      "source": [
        "<a href=\"https://colab.research.google.com/github/HarshithaVattikota/AboutMe/blob/main/Chatbot.ipynb\" target=\"_parent\"><img src=\"https://colab.research.google.com/assets/colab-badge.svg\" alt=\"Open In Colab\"/></a>"
      ]
    },
    {
      "cell_type": "markdown",
      "metadata": {
        "id": "SlKCFNGKrN_M"
      },
      "source": [
        "**What are Chatbots?**\n",
        "\n",
        "Chatbots are simulations which can understand human language,process it and interact back with humans while performing specific tasks.\n"
      ]
    },
    {
      "cell_type": "markdown",
      "metadata": {
        "id": "aiK8kfjvr1BP"
      },
      "source": [
        "**How does a chatbot work?**\n",
        "\n",
        "Very important steps:\n",
        "\n",
        "1)import corpus\n",
        "\n",
        "2)preprocess the data\n",
        "\n",
        "3)Text case handling\n",
        "\n",
        "4)Tokenization\n",
        "\n",
        "5)Stemming\n",
        "\n",
        "6)Bag of Words(BOW)\n",
        "\n",
        "7)One hot encoding "
      ]
    },
    {
      "cell_type": "markdown",
      "metadata": {
        "id": "mKW-rbp7soGz"
      },
      "source": [
        "**Corpus**\n",
        " \n",
        " Corpus is the **training data** needed for the chatbot to learn.\n",
        " Without a corpus,it is impossible for a chatbot to learn and reply something useful back to the user\n"
      ]
    },
    {
      "cell_type": "markdown",
      "metadata": {
        "id": "utR6ku3atFJW"
      },
      "source": [
        "**Data preprocessing- text case handling**\n",
        "\n",
        "Converting all the data coming as an input to either upper or lower case. This will avoid misrepresentation and misinterpretation of words if splet under lower or upper cases. "
      ]
    },
    {
      "cell_type": "markdown",
      "metadata": {
        "id": "cnJrrYXctvm0"
      },
      "source": [
        "**Tokenization**\n",
        "\n",
        "The structured process of converting a sentence into individual collection of words"
      ]
    },
    {
      "cell_type": "markdown",
      "metadata": {
        "id": "MnKyDqr3uGed"
      },
      "source": [
        "**Stemming**\n",
        "\n",
        "Process of finding similarities between words with the same root words\n"
      ]
    },
    {
      "cell_type": "markdown",
      "metadata": {
        "id": "uvZULbTBuUfz"
      },
      "source": [
        "**Generating Bag of Words(BOW)**\n",
        "\n",
        "Process of converting words into numbers by generating **vector embeddings** from the tokens generated."
      ]
    },
    {
      "cell_type": "markdown",
      "metadata": {
        "id": "YJTTD-sHu9da"
      },
      "source": [
        "**Importing the required libraries**"
      ]
    },
    {
      "cell_type": "code",
      "execution_count": 1,
      "metadata": {
        "colab": {
          "base_uri": "https://localhost:8080/"
        },
        "id": "dObyGiguvG6_",
        "outputId": "700892b4-7ecb-44fa-81e8-ac5da983c988"
      },
      "outputs": [
        {
          "output_type": "stream",
          "name": "stderr",
          "text": [
            "[nltk_data] Downloading package omw-1.4 to /root/nltk_data...\n"
          ]
        },
        {
          "output_type": "execute_result",
          "data": {
            "text/plain": [
              "True"
            ]
          },
          "metadata": {},
          "execution_count": 1
        }
      ],
      "source": [
        "import numpy as np\n",
        "import nltk\n",
        "import string\n",
        "import random\n",
        "nltk.download('omw-1.4')"
      ]
    },
    {
      "cell_type": "code",
      "execution_count": 2,
      "metadata": {
        "colab": {
          "base_uri": "https://localhost:8080/"
        },
        "id": "kS3t-nSKvNco",
        "outputId": "7938a8af-1d2a-4444-8a06-01803f680256"
      },
      "outputs": [
        {
          "output_type": "stream",
          "name": "stderr",
          "text": [
            "[nltk_data] Downloading package punkt to /root/nltk_data...\n",
            "[nltk_data]   Unzipping tokenizers/punkt.zip.\n",
            "[nltk_data] Downloading package wordnet to /root/nltk_data...\n"
          ]
        }
      ],
      "source": [
        "f=open('chatbot.txt','r',errors='ignore')\n",
        "raw_doc=f.read()\n",
        "raw_doc=raw_doc.lower() #Converts text to lowercase\n",
        "nltk.download('punkt') \n",
        "nltk.download('wordnet')\n",
        "sent_tokens = nltk.sent_tokenize(raw_doc)\n",
        "word_tokens = nltk.word_tokenize(raw_doc)\n"
      ]
    },
    {
      "cell_type": "code",
      "execution_count": 3,
      "metadata": {
        "colab": {
          "base_uri": "https://localhost:8080/"
        },
        "id": "FIDGRS1OwRAP",
        "outputId": "1f8f5346-c4e9-40c6-fe16-a23a1ea82cf2"
      },
      "outputs": [
        {
          "output_type": "execute_result",
          "data": {
            "text/plain": [
              "['data science is an interdisciplinary academic field [1] that uses statistics, scientific computing, scientific methods, processes, algorithms and systems to extract or extrapolate knowledge and insights from noisy, structured, and unstructured data.',\n",
              " '[2]\\n\\ndata science also integrates domain knowledge from the underlying application domain (e.g., natural sciences, information technology, and medicine).']"
            ]
          },
          "metadata": {},
          "execution_count": 3
        }
      ],
      "source": [
        "sent_tokens[:2]"
      ]
    },
    {
      "cell_type": "code",
      "execution_count": 4,
      "metadata": {
        "colab": {
          "base_uri": "https://localhost:8080/"
        },
        "id": "SATH6gdIyDPl",
        "outputId": "14954ab6-e6dd-40ba-ade4-784cc7c1beff"
      },
      "outputs": [
        {
          "output_type": "execute_result",
          "data": {
            "text/plain": [
              "['data', 'science']"
            ]
          },
          "metadata": {},
          "execution_count": 4
        }
      ],
      "source": [
        "word_tokens[:2]"
      ]
    },
    {
      "cell_type": "markdown",
      "metadata": {
        "id": "L4pP8vpMyfa_"
      },
      "source": [
        "**Text Preprocessing**"
      ]
    },
    {
      "cell_type": "code",
      "execution_count": 5,
      "metadata": {
        "id": "A9IuYRPiymuM"
      },
      "outputs": [],
      "source": [
        "lemmer = nltk.stem.WordNetLemmatizer()\n",
        "#WordNet is a semantically-oriented dictionary of English included in NLTK.\n",
        "def LemTokens(tokens):\n",
        "  return [lemmer.lemmatize(token) for token in tokens]\n",
        "remove_punct_dict = dict((ord(punct),None) for punct in string.punctuation)\n",
        "def LemNormalize(text):\n",
        "  return LemTokens(nltk.word_tokenize(text.lower().translate(remove_punct_dict)))"
      ]
    },
    {
      "cell_type": "code",
      "execution_count": 6,
      "metadata": {
        "id": "A-yabcXAzl0o"
      },
      "outputs": [],
      "source": [
        "GREET_INPUTS = (\"hello\" , \"hi\",\"greetings\",\"sup\",\"what's up\",\"hey\",)\n",
        "GREET_RESPONSES = [\"hi\",\"hey\",\"*nods*\",\"hi there\",\"hello\",\"I am glad! You are talking to me\"]\n",
        "def greet(sentence):\n",
        "  for word in sentence.split():\n",
        "    if word.lower() in GREET_INPUTS:\n",
        "      return random.choice(GREET_RESPONSES)"
      ]
    },
    {
      "cell_type": "markdown",
      "metadata": {
        "id": "QKEVBOrq1Ia3"
      },
      "source": [
        "**Response generation**"
      ]
    },
    {
      "cell_type": "code",
      "execution_count": 7,
      "metadata": {
        "id": "JOiKyKJP06Xn"
      },
      "outputs": [],
      "source": [
        "from sklearn.feature_extraction.text import TfidfVectorizer\n",
        "from sklearn.metrics.pairwise import cosine_similarity"
      ]
    },
    {
      "cell_type": "code",
      "execution_count": 8,
      "metadata": {
        "id": "4lw5yxL_1jsZ"
      },
      "outputs": [],
      "source": [
        "def response(user_response):\n",
        "  robo1_response=''\n",
        "  TfidfVec = TfidfVectorizer(tokenizer=LemNormalize, stop_words='english')\n",
        "  tfidf = TfidfVec.fit_transform(sent_tokens)\n",
        "  vals = cosine_similarity(tfidf[-1], tfidf)\n",
        "  idx=vals.argsort()[0][-2]\n",
        "  flat=vals.flatten()\n",
        "  flat.sort()\n",
        "  req_tfidf = flat[-2]\n",
        "  if(req_tfidf==0):\n",
        "    robo1_response=robo1_response+\"I am sorry! I don't understand you\"\n",
        "    return robo1_response\n",
        "  else:\n",
        "    robo1_response = robo1_response+sent_tokens[idx]\n",
        "    return robo1_response"
      ]
    },
    {
      "cell_type": "markdown",
      "metadata": {
        "id": "ZTrKz6j-3Of7"
      },
      "source": [
        "**Defining conversation start/end protocols**"
      ]
    },
    {
      "cell_type": "code",
      "execution_count": null,
      "metadata": {
        "id": "_NZl6cydxhfr",
        "colab": {
          "base_uri": "https://localhost:8080/"
        },
        "outputId": "696c939e-c26b-404a-c6f8-c0c28c430084"
      },
      "outputs": [
        {
          "metadata": {
            "tags": null
          },
          "name": "stdout",
          "output_type": "stream",
          "text": [
            "BOT: My name is Harshi. Let's have a conversation! Also, if you wnat to exit any time, just type Bye!\n",
            "BOT: hi there\n",
            "BOT: I am glad! You are talking to me\n",
            "BOT: *nods*\n",
            "BOT: "
          ]
        },
        {
          "metadata": {
            "tags": null
          },
          "name": "stderr",
          "output_type": "stream",
          "text": [
            "/usr/local/lib/python3.8/dist-packages/sklearn/feature_extraction/text.py:396: UserWarning: Your stop_words may be inconsistent with your preprocessing. Tokenizing the stop words generated tokens ['ha', 'le', 'u', 'wa'] not in stop_words.\n",
            "  warnings.warn(\n"
          ]
        },
        {
          "metadata": {
            "tags": null
          },
          "name": "stdout",
          "output_type": "stream",
          "text": [
            "[21]\n",
            "\n",
            "etymology\n",
            "early usage\n",
            "in 1962, john tukey described a field he called \"data analysis\", which resembles modern data science.\n",
            "BOT: wikipedia® is a registered trademark of the wikimedia foundation, inc., a non-profit organization.\n",
            "BOT: the fourth paradigm: data-intensive scientific discovery.\n",
            "BOT: [16]\n",
            "\n",
            "relationship to statistics\n",
            "many statisticians, including nate silver, have argued that data science is not a new field, but rather another name for statistics.\n"
          ]
        }
      ],
      "source": [
        "flag=True\n",
        "print(\"BOT: My name is Harshi. Let's have a conversation! Also, if you wnat to exit any time, just type Bye!\")\n",
        "while(flag==True):\n",
        "  user_response = input()\n",
        "  user_response = user_response.lower()\n",
        "  if (user_response!='bye'):\n",
        "    if(user_response=='thanks' or user_response=='thankyou'):\n",
        "      flag=False\n",
        "      print(\"BOT: You are welcome..\")\n",
        "    else:\n",
        "      if(greet(user_response)!=None):\n",
        "        print(\"BOT: \"+greet(user_response))\n",
        "      else:\n",
        "        sent_tokens.append(user_response)\n",
        "        word_tokens=word_tokens+nltk.word_tokenize(user_response)\n",
        "        final_words = list(set(word_tokens))\n",
        "        print(\"BOT: \",end=\"\")\n",
        "        print(response(user_response))\n",
        "        sent_tokens.remove(user_response)\n",
        "  else:\n",
        "    flag=False\n",
        "    print(\"BOT: Goodbye! Take care <3 \")"
      ]
    },
    {
      "cell_type": "code",
      "source": [],
      "metadata": {
        "id": "ahoxfz_YDKmq"
      },
      "execution_count": null,
      "outputs": []
    }
  ],
  "metadata": {
    "colab": {
      "provenance": [],
      "authorship_tag": "ABX9TyO/s9F1yUhmOFNOZN4Zi839",
      "include_colab_link": true
    },
    "kernelspec": {
      "display_name": "Python 3",
      "name": "python3"
    },
    "language_info": {
      "name": "python"
    },
    "gpuClass": "standard"
  },
  "nbformat": 4,
  "nbformat_minor": 0
}